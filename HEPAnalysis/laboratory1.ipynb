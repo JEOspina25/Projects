{
 "cells": [
  {
   "cell_type": "markdown",
   "metadata": {},
   "source": [
    "# **Laboratory 1: finding Z boson!**\n",
    "\n",
    "By: **Juan Esteban Ospina**\n",
    "\n",
    "Good luck!\n",
    "\n",
    "## Introduction\n",
    "\n",
    "Z boson is an elementary particle that mediates the weak interaction. It is a neutral particle with a mass of 91.1876 GeV/c^2. It is a very short-lived particle with a lifetime of 2.6×10^-25 s. The Z boson decays into a pair of fermions, and the branching ratio for each fermion is determined by the weak mixing angle. The Z boson can decay into a pair of neutrinos, but it is difficult to detect neutrinos. \n",
    "\n",
    "Therefore, we will focus on the decay of Z boson into a pair of charged leptons. The branching ratio for the decay of Z boson into a pair of charged leptons is 3.3658%. In this laboratory, we will search for Z boson by looking for a pair of charged leptons that have the same flavor and opposite charge. We will use simulated data with MadGraph and analyze it with python.\n",
    "\n",
    "## Objectives\n",
    "* Import data from root file\n",
    "* Plot histograms like TBrowser shows\n",
    "* aply cuts to the data \n",
    "* Find Z boson mass peak\n",
    "* Fit the peak with a Gaussian function or something else\n",
    "* Report the mass of Z boson with its uncertainty\n",
    "* Compare the result with the known value of Z boson mass (91.1876 GeV/c^2)\n",
    "\n",
    "## Data\n",
    "In our analysis, we will use the data of muons.\n",
    "\n",
    "* <span style=\"color:red\">What is Pt?</span>\n",
    "* <span style=\"color:red\">What is Eta?</span>\n",
    "* <span style=\"color:red\">What is Phi?</span>\n",
    "\n",
    "\n",
    "The data is stored in a root file. Please take the data of muon: Pt, Eta, Phi"
   ]
  },
  {
   "cell_type": "code",
   "execution_count": null,
   "metadata": {},
   "outputs": [],
   "source": [
    "#Libraries\n",
    "import uproot #This is the library that allows us to read the root files\n",
    "\n",
    "# import ... (import all that you need)\n"
   ]
  },
  {
   "cell_type": "code",
   "execution_count": null,
   "metadata": {},
   "outputs": [],
   "source": [
    "#This cell return a dataframe with pt, eta phi of muons\n",
    "path = \"\" #Path to the root file\n",
    "tree_Name = \"\" #Name of the tree\n",
    "Tree=uproot.open(path)[tree_name] #This line takes all the information from the tree\n",
    "df = #?\n"
   ]
  },
  {
   "cell_type": "markdown",
   "metadata": {},
   "source": [
    "Now, you have a Data Frame with Pt, Eta, and Phi columns. Please take a look at the data!\n",
    "Maybe you need some *<span style=\"color:green\">histograms</span>* to understand the data better."
   ]
  },
  {
   "cell_type": "code",
   "execution_count": null,
   "metadata": {},
   "outputs": [],
   "source": [
    "#Let me see the histograms!"
   ]
  },
  {
   "cell_type": "markdown",
   "metadata": {},
   "source": [
    "* <span style=\"color:red\">its looks like Tbroser histograms?</span>\n"
   ]
  },
  {
   "cell_type": "markdown",
   "metadata": {},
   "source": [
    "To find Z boson, we need to apply some cuts to the data. The cuts are: \n",
    "* We need events were two muons are detected\n",
    "* Pt > 20 GeV\n",
    "* |Eta| < 2.4\n",
    "* |Phi| < 3.2\n",
    "\n",
    "\n"
   ]
  },
  {
   "cell_type": "code",
   "execution_count": null,
   "metadata": {},
   "outputs": [],
   "source": [
    "# Apply theese cuts to the data and plot all the histograms again.\n"
   ]
  },
  {
   "cell_type": "markdown",
   "metadata": {},
   "source": [
    "Now, you have the righ data to find Z boson. A relevant feature to know if we have the z boson is the invariant mass of the two muons. The invariant mass is calculated as follows:\n",
    "$$ M = \\sqrt{2*Pt1*Pt2*(cosh(Eta1-Eta2)-cos(Phi1-Phi2))}$$\n",
    "\n"
   ]
  },
  {
   "cell_type": "code",
   "execution_count": null,
   "metadata": {},
   "outputs": [],
   "source": [
    "# Calculate the invariant mass of the two muons and plot the histogram"
   ]
  },
  {
   "cell_type": "markdown",
   "metadata": {},
   "source": [
    "It look nice! Now, you have the invariant mass of the Z boson. It looks like the peak is near 90 GeV. Now, you need to fit the peak with a Gaussian function. The Gaussian function is defined as follows:\n",
    "$$ f(x) = A * exp((x-m)^2/2s^2)$$\n",
    "where A is the amplitude, m is the mean, and s is the standard deviation.\n",
    "In python, you can use the <span style=\"color:green\">curve_fit</span> function."
   ]
  },
  {
   "cell_type": "code",
   "execution_count": null,
   "metadata": {},
   "outputs": [],
   "source": [
    "# Fit the histogram with a gaussian and plot the fit with data"
   ]
  },
  {
   "cell_type": "code",
   "execution_count": null,
   "metadata": {},
   "outputs": [],
   "source": [
    "#Also, you can try a fit with another function, like a Breit-Wigner(unexplored road)"
   ]
  },
  {
   "cell_type": "markdown",
   "metadata": {},
   "source": [
    "Finally, you can report an estimation of the mass of Z boson with its uncertainty. You can compare the result with the known value of Z boson mass (91.1876 GeV/c^2).\n",
    "\n",
    "## Conclusion\n",
    "....?\n",
    "Have in mind the last two points of the objectives!"
   ]
  }
 ],
 "metadata": {
  "language_info": {
   "name": "python"
  }
 },
 "nbformat": 4,
 "nbformat_minor": 2
}
